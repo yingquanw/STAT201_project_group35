{
 "cells": [
  {
   "cell_type": "markdown",
   "id": "5f8dadf1-48b9-41ce-ae0e-2ed3f9c859e7",
   "metadata": {},
   "source": [
    "# Hypothesis Testing: Rate of Theft in Greater Vancouver During the Pandemic (2020-2022) "
   ]
  },
  {
   "cell_type": "markdown",
   "id": "1ef21686-8b66-4055-8945-0588396b024e",
   "metadata": {},
   "source": [
    "## Introduction\n"
   ]
  },
  {
   "cell_type": "markdown",
   "id": "44c4a0cf-b309-4402-8f0e-313a49fc9aa1",
   "metadata": {},
   "source": [
    "## Preliminary Results\n"
   ]
  },
  {
   "cell_type": "markdown",
   "id": "aa85e97b-8897-415f-aab4-ca3eaad5de19",
   "metadata": {},
   "source": [
    "## Methods: Plan\n"
   ]
  },
  {
   "cell_type": "markdown",
   "id": "a50496b0-cfaa-4e4b-9720-0281d5e6e0d3",
   "metadata": {},
   "source": [
    "## References"
   ]
  },
  {
   "cell_type": "code",
   "execution_count": null,
   "id": "aac34ba7-ae9d-432f-a67b-197f9bce1e04",
   "metadata": {},
   "outputs": [],
   "source": []
  }
 ],
 "metadata": {
  "kernelspec": {
   "display_name": "R",
   "language": "R",
   "name": "ir"
  },
  "language_info": {
   "codemirror_mode": "r",
   "file_extension": ".r",
   "mimetype": "text/x-r-source",
   "name": "R",
   "pygments_lexer": "r",
   "version": "4.1.3"
  }
 },
 "nbformat": 4,
 "nbformat_minor": 5
}

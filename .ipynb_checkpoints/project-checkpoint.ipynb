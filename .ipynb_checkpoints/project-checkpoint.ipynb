{
 "cells": [
  {
   "cell_type": "markdown",
   "id": "5f8dadf1-48b9-41ce-ae0e-2ed3f9c859e7",
   "metadata": {},
   "source": [
    "# Hypothesis Testing: Rate of Theft in Greater Vancouver During the Pandemic (2020-2022) "
   ]
  },
  {
   "cell_type": "markdown",
   "id": "1ef21686-8b66-4055-8945-0588396b024e",
   "metadata": {},
   "source": [
    "## Introduction\n"
   ]
  },
  {
   "cell_type": "markdown",
   "id": "44c4a0cf-b309-4402-8f0e-313a49fc9aa1",
   "metadata": {},
   "source": [
    "## Preliminary Results\n"
   ]
  },
  {
   "cell_type": "markdown",
   "id": "54a4a3b3-6617-43f2-835f-a7b406bf0028",
   "metadata": {},
   "source": [
    "### Importing Libraries"
   ]
  },
  {
   "cell_type": "code",
   "execution_count": 4,
   "id": "7e0fb4de-d016-4598-b7c7-d90f849f2aff",
   "metadata": {},
   "outputs": [],
   "source": [
    "# Run before continuing.\n",
    "library(cowplot)\n",
    "library(datateachr)\n",
    "library(digest)\n",
    "library(infer)\n",
    "library(repr)\n",
    "library(taxyvr)\n",
    "library(tidyverse)\n",
    "library(broom)\n",
    "library(digest)\n",
    "library(testthat)"
   ]
  },
  {
   "cell_type": "markdown",
   "id": "541f9809-c22b-4fd4-9e0c-1ae6fe7766bc",
   "metadata": {},
   "source": [
    "### Importing the Data"
   ]
  },
  {
   "cell_type": "code",
   "execution_count": null,
   "id": "f6beb1d2-ad9e-4de4-8e0c-3ccc2d8055bd",
   "metadata": {},
   "outputs": [],
   "source": [
    "van_crime_data <- read_csv(url(''))"
   ]
  },
  {
   "cell_type": "markdown",
   "id": "8883a796-09bb-4f07-a4b7-829a841a56dc",
   "metadata": {},
   "source": [
    "### Cleaning the Data"
   ]
  },
  {
   "cell_type": "code",
   "execution_count": null,
   "id": "3bd76d66-02dd-4e6c-a826-7c7901dcd1a8",
   "metadata": {},
   "outputs": [],
   "source": []
  },
  {
   "cell_type": "markdown",
   "id": "aa85e97b-8897-415f-aab4-ca3eaad5de19",
   "metadata": {},
   "source": [
    "## Methods: Plan\n"
   ]
  },
  {
   "cell_type": "markdown",
   "id": "db02e98f-8b04-4307-b9b6-ea86120b73c4",
   "metadata": {},
   "source": []
  },
  {
   "cell_type": "markdown",
   "id": "a50496b0-cfaa-4e4b-9720-0281d5e6e0d3",
   "metadata": {},
   "source": [
    "## References"
   ]
  },
  {
   "cell_type": "code",
   "execution_count": null,
   "id": "aac34ba7-ae9d-432f-a67b-197f9bce1e04",
   "metadata": {},
   "outputs": [],
   "source": []
  }
 ],
 "metadata": {
  "kernelspec": {
   "display_name": "R",
   "language": "R",
   "name": "ir"
  },
  "language_info": {
   "codemirror_mode": "r",
   "file_extension": ".r",
   "mimetype": "text/x-r-source",
   "name": "R",
   "pygments_lexer": "r",
   "version": "4.1.3"
  }
 },
 "nbformat": 4,
 "nbformat_minor": 5
}

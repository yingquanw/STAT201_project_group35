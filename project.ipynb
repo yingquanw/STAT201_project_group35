{
 "cells": [
  {
   "cell_type": "markdown",
   "id": "5f8dadf1-48b9-41ce-ae0e-2ed3f9c859e7",
   "metadata": {},
   "source": [
    "# Hypothesis Testing: Rate of Theft in Greater Vancouver During the Pandemic (2020-2022) "
   ]
  },
  {
   "cell_type": "markdown",
   "id": "1ef21686-8b66-4055-8945-0588396b024e",
   "metadata": {},
   "source": [
    "## Introduction\n"
   ]
  },
  {
   "cell_type": "markdown",
   "id": "5ce75ee1-e642-4992-a09f-96addfab8cc6",
   "metadata": {},
   "source": [
    "By June 2020, the unemployment rate rose up to 13.5% in Vancouver according to the Vancouver Economic Commission. BC’s gdp alone was estimated to have a 5.1% decline. This would lead to lower economic well-being. If unemployment carries on for people with little to no disposable income, there is a possibility that they will resort to economic crimes. When unemployment increases by 1%, property crime is predicted to rise by 2% (Lin, 2008 as cited in Freeman, 1995; Bushway and Reuter 2002; Levitt, 2004). We wanted to see if that was the case in Vancouver. \n",
    "\n",
    "The data set we are using includes the “type” of crime, “year,” “month,” and “neighbourhood.” We will be contrasting the mean monthly occurrences of economic criminal activities before and during the pandemic using the dataset “Vancouver Crime Data.” Our independent variables are the year and months. We are assessing two or more categories: Neighborhood and  Type of crime.\n",
    "\n",
    "We will be focusing on “economic crimes” which are the four types of theft reported in the data set: 1) Theft FROM vehicle 2) Theft OF vehicle 3) Theft of bicycle 4) other theft. \n",
    "\n",
    "We are using the measure “mean” to observe what's central to the observations or what a typical crime rate of theft looks like during the pandemic and determine if it is more than the pre-pandemic years."
   ]
  },
  {
   "cell_type": "markdown",
   "id": "22e3818d-437f-47b6-a6d5-64bfcde3de5e",
   "metadata": {},
   "source": [
    "#### We will be using hypothesis testing to determine our conclusion:"
   ]
  },
  {
   "cell_type": "markdown",
   "id": "0de32f4a-426d-4a1b-8000-48c5457ef264",
   "metadata": {},
   "source": [
    "1. Null hypothesis (H0):  The mean crime rate of “economic crimes” during the pandemic (2020-2021) will be the same as the pre-pandemic years (2018-2019) in Vancouver\n",
    "\n",
    "2. Alternative hypothesis (H1): The mean crime rate of “economic” crimes will be greater during the years of pandemic (2020-2021) than the pre-pandemic years(2018-2019) in Vancouver"
   ]
  },
  {
   "cell_type": "markdown",
   "id": "44c4a0cf-b309-4402-8f0e-313a49fc9aa1",
   "metadata": {},
   "source": [
    "## Preliminary Results\n"
   ]
  },
  {
   "cell_type": "markdown",
   "id": "54a4a3b3-6617-43f2-835f-a7b406bf0028",
   "metadata": {},
   "source": [
    "#### Importing Libraries"
   ]
  },
  {
   "cell_type": "code",
   "execution_count": 2,
   "id": "7e0fb4de-d016-4598-b7c7-d90f849f2aff",
   "metadata": {},
   "outputs": [
    {
     "name": "stderr",
     "output_type": "stream",
     "text": [
      "── \u001b[1mAttaching packages\u001b[22m ─────────────────────────────────────── tidyverse 1.3.2 ──\n",
      "\u001b[32m✔\u001b[39m \u001b[34mggplot2\u001b[39m 3.3.6      \u001b[32m✔\u001b[39m \u001b[34mpurrr  \u001b[39m 0.3.4 \n",
      "\u001b[32m✔\u001b[39m \u001b[34mtibble \u001b[39m 3.1.8      \u001b[32m✔\u001b[39m \u001b[34mdplyr  \u001b[39m 1.0.10\n",
      "\u001b[32m✔\u001b[39m \u001b[34mtidyr  \u001b[39m 1.2.1      \u001b[32m✔\u001b[39m \u001b[34mstringr\u001b[39m 1.4.1 \n",
      "\u001b[32m✔\u001b[39m \u001b[34mreadr  \u001b[39m 2.1.2      \u001b[32m✔\u001b[39m \u001b[34mforcats\u001b[39m 0.5.2 \n",
      "── \u001b[1mConflicts\u001b[22m ────────────────────────────────────────── tidyverse_conflicts() ──\n",
      "\u001b[31m✖\u001b[39m \u001b[34mdplyr\u001b[39m::\u001b[32mfilter()\u001b[39m masks \u001b[34mstats\u001b[39m::filter()\n",
      "\u001b[31m✖\u001b[39m \u001b[34mdplyr\u001b[39m::\u001b[32mlag()\u001b[39m    masks \u001b[34mstats\u001b[39m::lag()\n",
      "\n",
      "Attaching package: ‘testthat’\n",
      "\n",
      "\n",
      "The following object is masked from ‘package:dplyr’:\n",
      "\n",
      "    matches\n",
      "\n",
      "\n",
      "The following object is masked from ‘package:purrr’:\n",
      "\n",
      "    is_null\n",
      "\n",
      "\n",
      "The following objects are masked from ‘package:readr’:\n",
      "\n",
      "    edition_get, local_edition\n",
      "\n",
      "\n",
      "The following object is masked from ‘package:tidyr’:\n",
      "\n",
      "    matches\n",
      "\n",
      "\n"
     ]
    }
   ],
   "source": [
    "# Run before continuing.\n",
    "library(cowplot)\n",
    "library(datateachr)\n",
    "library(digest)\n",
    "library(infer)\n",
    "library(repr)\n",
    "library(taxyvr)\n",
    "library(tidyverse)\n",
    "library(broom)\n",
    "library(digest)\n",
    "library(testthat)"
   ]
  },
  {
   "cell_type": "markdown",
   "id": "541f9809-c22b-4fd4-9e0c-1ae6fe7766bc",
   "metadata": {},
   "source": [
    "#### Importing the Data"
   ]
  },
  {
   "cell_type": "code",
   "execution_count": 10,
   "id": "f6beb1d2-ad9e-4de4-8e0c-3ccc2d8055bd",
   "metadata": {},
   "outputs": [
    {
     "name": "stderr",
     "output_type": "stream",
     "text": [
      "\u001b[1mRows: \u001b[22m\u001b[34m44280\u001b[39m \u001b[1mColumns: \u001b[22m\u001b[34m10\u001b[39m\n",
      "\u001b[36m──\u001b[39m \u001b[1mColumn specification\u001b[22m \u001b[36m────────────────────────────────────────────────────────\u001b[39m\n",
      "\u001b[1mDelimiter:\u001b[22m \",\"\n",
      "\u001b[31mchr\u001b[39m (3): TYPE, HUNDRED_BLOCK, NEIGHBOURHOOD\n",
      "\u001b[32mdbl\u001b[39m (7): YEAR, MONTH, DAY, HOUR, MINUTE, X, Y\n",
      "\n",
      "\u001b[36mℹ\u001b[39m Use `spec()` to retrieve the full column specification for this data.\n",
      "\u001b[36mℹ\u001b[39m Specify the column types or set `show_col_types = FALSE` to quiet this message.\n",
      "\u001b[1mRows: \u001b[22m\u001b[34m48247\u001b[39m \u001b[1mColumns: \u001b[22m\u001b[34m10\u001b[39m\n",
      "\u001b[36m──\u001b[39m \u001b[1mColumn specification\u001b[22m \u001b[36m────────────────────────────────────────────────────────\u001b[39m\n",
      "\u001b[1mDelimiter:\u001b[22m \",\"\n",
      "\u001b[31mchr\u001b[39m (3): TYPE, HUNDRED_BLOCK, NEIGHBOURHOOD\n",
      "\u001b[32mdbl\u001b[39m (7): YEAR, MONTH, DAY, HOUR, MINUTE, X, Y\n",
      "\n",
      "\u001b[36mℹ\u001b[39m Use `spec()` to retrieve the full column specification for this data.\n",
      "\u001b[36mℹ\u001b[39m Specify the column types or set `show_col_types = FALSE` to quiet this message.\n",
      "\u001b[1mRows: \u001b[22m\u001b[34m37516\u001b[39m \u001b[1mColumns: \u001b[22m\u001b[34m10\u001b[39m\n",
      "\u001b[36m──\u001b[39m \u001b[1mColumn specification\u001b[22m \u001b[36m────────────────────────────────────────────────────────\u001b[39m\n",
      "\u001b[1mDelimiter:\u001b[22m \",\"\n",
      "\u001b[31mchr\u001b[39m (3): TYPE, HUNDRED_BLOCK, NEIGHBOURHOOD\n",
      "\u001b[32mdbl\u001b[39m (7): YEAR, MONTH, DAY, HOUR, MINUTE, X, Y\n",
      "\n",
      "\u001b[36mℹ\u001b[39m Use `spec()` to retrieve the full column specification for this data.\n",
      "\u001b[36mℹ\u001b[39m Specify the column types or set `show_col_types = FALSE` to quiet this message.\n",
      "\u001b[1mRows: \u001b[22m\u001b[34m32163\u001b[39m \u001b[1mColumns: \u001b[22m\u001b[34m10\u001b[39m\n",
      "\u001b[36m──\u001b[39m \u001b[1mColumn specification\u001b[22m \u001b[36m────────────────────────────────────────────────────────\u001b[39m\n",
      "\u001b[1mDelimiter:\u001b[22m \",\"\n",
      "\u001b[31mchr\u001b[39m (3): TYPE, HUNDRED_BLOCK, NEIGHBOURHOOD\n",
      "\u001b[32mdbl\u001b[39m (7): YEAR, MONTH, DAY, HOUR, MINUTE, X, Y\n",
      "\n",
      "\u001b[36mℹ\u001b[39m Use `spec()` to retrieve the full column specification for this data.\n",
      "\u001b[36mℹ\u001b[39m Specify the column types or set `show_col_types = FALSE` to quiet this message.\n"
     ]
    }
   ],
   "source": [
    "van_crime_data_2018 <- read_csv(\"./crimedata_csv_2018.csv\")\n",
    "van_crime_data_2019 <- read_csv(\"./crimedata_csv_2019.csv\")\n",
    "van_crime_data_2020 <- read_csv(\"./crimedata_csv_2020.csv\")\n",
    "van_crime_data_2021 <- read_csv(\"./crimedata_csv_2021.csv\")"
   ]
  },
  {
   "cell_type": "markdown",
   "id": "8883a796-09bb-4f07-a4b7-829a841a56dc",
   "metadata": {},
   "source": [
    "#### Cleaning the Data"
   ]
  },
  {
   "cell_type": "code",
   "execution_count": null,
   "id": "3bd76d66-02dd-4e6c-a826-7c7901dcd1a8",
   "metadata": {},
   "outputs": [],
   "source": []
  },
  {
   "cell_type": "markdown",
   "id": "aa85e97b-8897-415f-aab4-ca3eaad5de19",
   "metadata": {},
   "source": [
    "## Methods: Plan\n"
   ]
  },
  {
   "cell_type": "markdown",
   "id": "849fdb4a-62df-46de-9181-432996dfcf2e",
   "metadata": {},
   "source": [
    "#### What do you expect to find?"
   ]
  },
  {
   "cell_type": "markdown",
   "id": "0c11ad1b-4f15-42fa-b7cb-fa50c8d5121d",
   "metadata": {},
   "source": [
    "We expect to find that the crime rate increases during the pandemic compared to previous years (H1). If this alternate hypothesis is proved to be reasonable, we think it was because of the high unemployment rate and deteriorating economic situation due to the pandemic. Thus the number of cases of economic crimes would increase significantly. However, this assumption might also be incorrect since there were less activities outside because of the pandemic. However, we still think the “deteriorating economy” has a more significant impact on the crime rate than the “less activities”. So we expect to see the crime rate went up during the pandemic."
   ]
  },
  {
   "cell_type": "markdown",
   "id": "59edebdd-6ce9-4a74-950c-8bbb39762b08",
   "metadata": {},
   "source": [
    "#### What impact could such findings have?"
   ]
  },
  {
   "cell_type": "markdown",
   "id": "5f8eaff4-c52f-40d2-98da-e29a051f876f",
   "metadata": {},
   "source": [
    "The result of our finding could help people to predict how the crime rate in Vancouver might be changing if a similar event happens again. (Not necessarily another pandemic, but a similar event like an economic recession.) This information might help the police department to better address the crime issue."
   ]
  },
  {
   "cell_type": "markdown",
   "id": "db02e98f-8b04-4307-b9b6-ea86120b73c4",
   "metadata": {},
   "source": [
    "#### What future questions could this lead to?"
   ]
  },
  {
   "cell_type": "markdown",
   "id": "9b5d8eff-3b8c-4a6f-b239-3ebbd2754eba",
   "metadata": {},
   "source": [
    "The result of this research could inspire further investigation on what are the factors that lead to the increase or decrease of the crime rate in Vancouver. Our research is only an observational study that tries to answer whether the crime rate changes during the pandemic and we are not trying to explain the reason behind it.  More correlational study can be done on this topic so that we could gain a deeper understanding on social, economical and other factors and their relationships with crime. "
   ]
  },
  {
   "cell_type": "markdown",
   "id": "a50496b0-cfaa-4e4b-9720-0281d5e6e0d3",
   "metadata": {},
   "source": [
    "## References"
   ]
  },
  {
   "cell_type": "markdown",
   "id": "c0b4eaf8-8e8a-4c41-860d-0d97920c0811",
   "metadata": {},
   "source": [
    "Home - Vancouver Police Board. (n.d.). Retrieved November 4, 2022, from https://vancouverpoliceboard.ca/police/policeboard/agenda/2022/0421/R_7.2_2204P01_Q1-2022-PSI-Report-FINAL.pdf \n",
    "\n",
    "How covid-19 lockdowns affected crime in Vancouver. SFU Research. (n.d.). Retrieved November 4, 2022, from https://www.sfu.ca/research/scholarly-impacts/how-covid-19-lockdowns-affected-crime-vancouver?utm_source=Email_marketing&amp;utm_campaign=Wednesday_June_22_2022&amp;cmp=1&amp;utm_medium=HTMLEmail&amp;_ccCt=bvcv-2kdmjt-bqdx2f-iqazy6n6 \n",
    "\n",
    "Lin, M.-J. (2008). Does Unemployment Increase Crime? Evidence from U.S. Data 1974-2000. The Journal of Human Resources, 43(2), 413–436. http://www.jstor.org/stable/40057352\n",
    "\n",
    "VPD open data. (n.d.). Retrieved November 4, 2022, from https://geodash.vpd.ca/opendata/ "
   ]
  }
 ],
 "metadata": {
  "kernelspec": {
   "display_name": "R",
   "language": "R",
   "name": "ir"
  },
  "language_info": {
   "codemirror_mode": "r",
   "file_extension": ".r",
   "mimetype": "text/x-r-source",
   "name": "R",
   "pygments_lexer": "r",
   "version": "4.1.3"
  }
 },
 "nbformat": 4,
 "nbformat_minor": 5
}

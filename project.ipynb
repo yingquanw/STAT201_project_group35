{
 "cells": [
  {
   "cell_type": "code",
   "execution_count": null,
   "id": "91f55157-c9c4-416f-8f0b-d32cbeac5336",
   "metadata": {},
   "outputs": [],
   "source": [
    "Notebook 12345 hello"
   ]
  }
 ],
 "metadata": {
  "kernelspec": {
   "display_name": "R",
   "language": "R",
   "name": "ir"
  },
  "language_info": {
   "codemirror_mode": "r",
   "file_extension": ".r",
   "mimetype": "text/x-r-source",
   "name": "R",
   "pygments_lexer": "r",
   "version": "4.1.3"
  }
 },
 "nbformat": 4,
 "nbformat_minor": 5
}
